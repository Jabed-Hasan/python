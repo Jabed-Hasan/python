{
  "nbformat": 4,
  "nbformat_minor": 0,
  "metadata": {
    "colab": {
      "provenance": [],
      "include_colab_link": true
    },
    "kernelspec": {
      "name": "python3",
      "display_name": "Python 3"
    },
    "language_info": {
      "name": "python"
    }
  },
  "cells": [
    {
      "cell_type": "markdown",
      "metadata": {
        "id": "view-in-github",
        "colab_type": "text"
      },
      "source": [
        "<a href=\"https://colab.research.google.com/github/Jabed-Hasan/python/blob/main/Lab_11__Convolution_Neural_Network.ipynb\" target=\"_parent\"><img src=\"https://colab.research.google.com/assets/colab-badge.svg\" alt=\"Open In Colab\"/></a>"
      ]
    },
    {
      "cell_type": "markdown",
      "source": [
        "# CNN Notes\n",
        "\n",
        "* Instead of connecting every input neuron to every hidden neuron (like in MLP), CNN uses convolutional filters (kernels) that scan over the input to capture local patterns (e.g., edges, corners, textures)."
      ],
      "metadata": {
        "id": "0Z3xf5ZQYCYc"
      }
    },
    {
      "cell_type": "markdown",
      "source": [
        "# Working Procedure\n",
        "Consider an image (matrix of pixel values), a filter / kernel (say 3×3 matrix) slides over the image. At each position:\n",
        "\n",
        "1. Multiply kernel values with overlapping image pixel values\n",
        "2. Sum them up → one output value\n",
        "3. Slide the filter (stride) → repeat\n",
        "\n",
        "This process extracts features:\n",
        "* Some kernels detect edges (vertical, horizontal)\n",
        "* Deeper layers detect shapes, objects"
      ],
      "metadata": {
        "id": "_VBUxxdPY1Sp"
      }
    },
    {
      "cell_type": "markdown",
      "source": [
        "## Step 1: Importing libraries"
      ],
      "metadata": {
        "id": "faXkd-RNa19K"
      }
    },
    {
      "cell_type": "code",
      "source": [
        "import numpy as np"
      ],
      "metadata": {
        "id": "28qaQ70yZZ0P"
      },
      "execution_count": null,
      "outputs": []
    },
    {
      "cell_type": "markdown",
      "source": [
        "## Step 2: Image data as matrix"
      ],
      "metadata": {
        "id": "YUVCE8uTawHh"
      }
    },
    {
      "cell_type": "code",
      "source": [
        "# 5x5 image\n",
        "image = np.array([\n",
        "    [1, 2, 3, 0, 1],\n",
        "    [0, 1, 2, 3, 1],\n",
        "    [3, 1, 0, 2, 4],\n",
        "    [2, 0, 1, 3, 2],\n",
        "    [1, 3, 2, 2, 0]\n",
        "])\n",
        "\n",
        "# 3x3 filter (edge detection kernel)\n",
        "kernel = np.array([\n",
        "    [1, 0, -1],\n",
        "    [1, 0, -1],\n",
        "    [1, 0, -1]\n",
        "])"
      ],
      "metadata": {
        "id": "DCZm7Te2ZdeW"
      },
      "execution_count": null,
      "outputs": []
    },
    {
      "cell_type": "markdown",
      "source": [
        "## Step-3: Building Convolution Layer"
      ],
      "metadata": {
        "id": "EdsIIJbxa6N5"
      }
    },
    {
      "cell_type": "code",
      "execution_count": null,
      "metadata": {
        "id": "wcQmcWjtWjrO"
      },
      "outputs": [],
      "source": [
        "def convolve2d(image, kernel):\n",
        "    kernel_height, kernel_width = kernel.shape\n",
        "    img_height, img_width = image.shape\n",
        "\n",
        "    # Output size = Image size − Kernel size + 1                                (valid Convolution, another is Same Convolution - with padding)\n",
        "    output_height = img_height - kernel_height + 1\n",
        "    output_width = img_width - kernel_width + 1\n",
        "    output = np.zeros((output_height, output_width))\n",
        "\n",
        "    # Convolution operation\n",
        "    for i in range(output_height):\n",
        "        for j in range(output_width):\n",
        "            region = image[i:i+kernel_height, j:j+kernel_width]\n",
        "            output[i, j] = np.sum(region * kernel)\n",
        "\n",
        "    return output"
      ]
    },
    {
      "cell_type": "markdown",
      "source": [
        "## Step-4: Implementation and result"
      ],
      "metadata": {
        "id": "i-1ByfelbBnY"
      }
    },
    {
      "cell_type": "code",
      "source": [
        "# Apply convolution\n",
        "result = convolve2d(image, kernel)\n",
        "\n",
        "print(\"Original Image:\\n\", image)\n",
        "print(\"\\nKernel:\\n\", kernel)\n",
        "print(\"\\nConvolved Output:\\n\", result)"
      ],
      "metadata": {
        "colab": {
          "base_uri": "https://localhost:8080/"
        },
        "id": "UpDQ_rjNZqLU",
        "outputId": "a107dcaa-49e1-465e-d08f-dcf55cbfc6a8"
      },
      "execution_count": null,
      "outputs": [
        {
          "output_type": "stream",
          "name": "stdout",
          "text": [
            "Original Image:\n",
            " [[1 2 3 0 1]\n",
            " [0 1 2 3 1]\n",
            " [3 1 0 2 4]\n",
            " [2 0 1 3 2]\n",
            " [1 3 2 2 0]]\n",
            "\n",
            "Kernel:\n",
            " [[ 1  0 -1]\n",
            " [ 1  0 -1]\n",
            " [ 1  0 -1]]\n",
            "\n",
            "Convolved Output:\n",
            " [[-1. -1. -1.]\n",
            " [ 2. -6. -4.]\n",
            " [ 3. -3. -3.]]\n"
          ]
        }
      ]
    },
    {
      "cell_type": "markdown",
      "source": [
        "![CNN.png](data:image/png;base64,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)"
      ],
      "metadata": {
        "id": "R0TUOnouaSnZ"
      }
    },
    {
      "cell_type": "markdown",
      "source": [
        "# Using Tensorflow framework"
      ],
      "metadata": {
        "id": "lJj-5x_dbh_w"
      }
    },
    {
      "cell_type": "code",
      "source": [
        "# Importing libraries\n",
        "\n",
        "import tensorflow as tf\n",
        "import numpy as np\n",
        "import matplotlib.pyplot as plt"
      ],
      "metadata": {
        "id": "X4GzGJdybnB9"
      },
      "execution_count": null,
      "outputs": []
    },
    {
      "cell_type": "markdown",
      "source": [
        "TensorFlow/Keras and PyTorch use a **4D tensor format** to process batches of images efficiently.\n",
        "\n",
        "$$ Input Shape=[Batch Size,Height,Width,Channels]$$\n",
        "\n",
        "**Batch Size:** Number of images processed together\n",
        "\n",
        "**Height & Width:** The spatial dimensions of image\n",
        "\n",
        "**Channels:** Number of color channels:\n",
        "  * 1 → Grayscale\n",
        "  * 3 → RGB\n",
        "  * 4 → RGBA\n",
        "\n",
        "Similarly,\n",
        "$$ Kernel Shape=[Height,Width,In\\_Channels,Out\\_Channels] $$\n",
        "\n",
        "**In Channels:** If the image is grayscale → in_channels = 1, and If the image is RGB → in_channels = 3\n",
        "\n",
        "**Out Channels:** Number of filters we want to apply. Each filter learns to detect a **different feature** (e.g., vertical edge, horizontal edge, texture)."
      ],
      "metadata": {
        "id": "G1hQ0SEmetTg"
      }
    },
    {
      "cell_type": "code",
      "source": [
        "# Previous 5x5 2D image (same as before), but Conv2D expects 4D tensor [batch, height, width, channels]\n",
        "\n",
        "image = np.array([\n",
        "    [1, 2, 3, 0, 1],\n",
        "    [0, 1, 2, 3, 1],\n",
        "    [3, 1, 0, 2, 4],\n",
        "    [2, 0, 1, 3, 2],\n",
        "    [1, 3, 2, 2, 0]\n",
        "], dtype=np.float32)\n",
        "\n",
        "image = image.reshape(1, 5, 5, 1)                                               # tensor shape = (batch=1, height=5, width=5, channels=1)\n",
        "\n",
        "# Kernel (3x3 filter), TensorFlow expects [height, width, in_channels, out_channels]\n",
        "kernel = np.array([\n",
        "    [1, 0, -1],\n",
        "    [1, 0, -1],\n",
        "    [1, 0, -1]\n",
        "], dtype=np.float32).reshape(3, 3, 1, 1)"
      ],
      "metadata": {
        "id": "aDj0Alz0buBf"
      },
      "execution_count": null,
      "outputs": []
    },
    {
      "cell_type": "markdown",
      "source": [
        "A Conv2D layer’s weights are stored as:\n",
        "$$ [kernel, bias] $$\n",
        "\n",
        "\n",
        "* kernel → the filters (shape [h, w, in_channels, out_channels])\n",
        "* bias → one bias per output channel (shape [out_channels])\n",
        "\n",
        "Here, bias not used (use_bias=False), so we only pass [kernel] → Kernel shape = (3, 3, 1, 1)\n",
        "\n"
      ],
      "metadata": {
        "id": "8PjHZXKiho9F"
      }
    },
    {
      "cell_type": "code",
      "source": [
        "# Build Conv2D layer\n",
        "conv_layer = tf.keras.layers.Conv2D(\n",
        "    filters=1,                                                                  # number of filters\n",
        "    kernel_size=(3,3),\n",
        "    use_bias=False                                                              # no bias, to match previous manual calculation\n",
        ")\n",
        "\n",
        "# Build weights into the layer                                                  # Normally, when a Conv2D layer is called with input data, it builds automatically\n",
        "conv_layer.build((1, 5, 5, 1))\n",
        "conv_layer.set_weights([kernel])                                                # Replaces the default random filter weights with our custom kernel\n",
        "\n",
        "# Apply convolution\n",
        "result = conv_layer(image)"
      ],
      "metadata": {
        "id": "A0aRYuL6XwBI"
      },
      "execution_count": null,
      "outputs": []
    },
    {
      "cell_type": "code",
      "source": [
        "# Convert to numpy\n",
        "result_np = result.numpy().squeeze()                                            # output 4D tensor (1, 3, 3, 1) → squeeze → (3, 3)\n",
        "\n",
        "# Visualization\n",
        "fig, axes = plt.subplots(1, 3, figsize=(12, 4))\n",
        "\n",
        "axes[0].imshow(image.squeeze(), cmap='gray')\n",
        "axes[0].set_title(\"Original Image\")\n",
        "axes[0].axis(\"off\")\n",
        "\n",
        "axes[1].imshow(kernel.squeeze(), cmap='gray')\n",
        "axes[1].set_title(\"Kernel (Filter)\")\n",
        "axes[1].axis(\"off\")\n",
        "\n",
        "axes[2].imshow(result_np, cmap='gray')\n",
        "axes[2].set_title(\"Convolved Output (TF)\")\n",
        "axes[2].axis(\"off\")\n",
        "\n",
        "plt.show()"
      ],
      "metadata": {
        "colab": {
          "base_uri": "https://localhost:8080/",
          "height": 332
        },
        "id": "mFC3i95JcL6c",
        "outputId": "523d1dc1-c86f-44ff-8258-71e8afead5da"
      },
      "execution_count": null,
      "outputs": [
        {
          "output_type": "display_data",
          "data": {
            "text/plain": [
              "<Figure size 1200x400 with 3 Axes>"
            ],
            "image/png": "[encoded data removed]"
          },
          "metadata": {}
        }
      ]
    },
    {
      "cell_type": "code",
      "source": [],
      "metadata": {
        "id": "ioKZM0VvauMN"
      },
      "execution_count": null,
      "outputs": []
    }
  ]
}