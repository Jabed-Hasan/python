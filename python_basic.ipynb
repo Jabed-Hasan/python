{
  "nbformat": 4,
  "nbformat_minor": 0,
  "metadata": {
    "colab": {
      "provenance": [],
      "authorship_tag": "ABX9TyM9qenjkmsWASifba5jUQCH",
      "include_colab_link": true
    },
    "kernelspec": {
      "name": "python3",
      "display_name": "Python 3"
    },
    "language_info": {
      "name": "python"
    }
  },
  "cells": [
    {
      "cell_type": "markdown",
      "metadata": {
        "id": "view-in-github",
        "colab_type": "text"
      },
      "source": [
        "<a href=\"https://colab.research.google.com/github/Jabed-Hasan/python/blob/main/python_basic.ipynb\" target=\"_parent\"><img src=\"https://colab.research.google.com/assets/colab-badge.svg\" alt=\"Open In Colab\"/></a>"
      ]
    },
    {
      "cell_type": "markdown",
      "source": [
        "Print Full Name"
      ],
      "metadata": {
        "id": "B9qdiCcbZp6u"
      }
    },
    {
      "cell_type": "code",
      "execution_count": 1,
      "metadata": {
        "colab": {
          "base_uri": "https://localhost:8080/"
        },
        "id": "WS_P2N22ZXFF",
        "outputId": "b0bc1766-2104-4cba-ec86-2bb09bf93230"
      },
      "outputs": [
        {
          "output_type": "stream",
          "name": "stdout",
          "text": [
            "Enter your first name: Jabed\n",
            "Enter your last name: Hasan\n",
            "Full name is: Jabed Hasan\n"
          ]
        }
      ],
      "source": [
        "first_name = input(\"Enter your first name: \")\n",
        "last_name = input(\"Enter your last name: \")\n",
        "full_name = first_name + \" \" + last_name\n",
        "print(\"Full name is:\", full_name)\n"
      ]
    },
    {
      "cell_type": "markdown",
      "source": [
        "Accept an integer `n` and compute the value of n + nn + nnn."
      ],
      "metadata": {
        "id": "RQWFcrwwZ4bX"
      }
    },
    {
      "cell_type": "code",
      "source": [
        "n = input(\"Enter a number: \")\n",
        "result = int(n) + int(n*2) + int(n*3)\n",
        "print(\"Result:\", result)\n"
      ],
      "metadata": {
        "colab": {
          "base_uri": "https://localhost:8080/"
        },
        "id": "98QOaiWQZuP6",
        "outputId": "d26131e2-11de-42e7-e9de-c5b6e980e320"
      },
      "execution_count": 2,
      "outputs": [
        {
          "output_type": "stream",
          "name": "stdout",
          "text": [
            "Enter a number: 5\n",
            "Result: 615\n"
          ]
        }
      ]
    },
    {
      "cell_type": "markdown",
      "source": [
        "Area of Circle"
      ],
      "metadata": {
        "id": "ZnNxf6UDaHaF"
      }
    },
    {
      "cell_type": "code",
      "source": [
        "radius = float(input(\"Enter radius of the circle: \"))\n",
        "area = 3.1416 * radius * radius\n",
        "print(\"Area of the circle is:\", area)\n"
      ],
      "metadata": {
        "colab": {
          "base_uri": "https://localhost:8080/"
        },
        "id": "f-8CXFZUaIxm",
        "outputId": "cc614fd6-afdf-49e6-863f-3f1ad00c9257"
      },
      "execution_count": 3,
      "outputs": [
        {
          "output_type": "stream",
          "name": "stdout",
          "text": [
            "Enter radius of the circle: 4\n",
            "Area of the circle is: 50.2656\n"
          ]
        }
      ]
    },
    {
      "cell_type": "markdown",
      "source": [
        "Check if Number is Even or Odd"
      ],
      "metadata": {
        "id": "sG4CVy6PaXfa"
      }
    },
    {
      "cell_type": "code",
      "source": [
        "num = int(input(\"Enter a number: \"))\n",
        "if num % 2 == 0:\n",
        "    print(\"The number is Even\")\n",
        "else:\n",
        "    print(\"The number is Odd\")\n"
      ],
      "metadata": {
        "colab": {
          "base_uri": "https://localhost:8080/"
        },
        "id": "tq6UxcsYaZNu",
        "outputId": "370ec7dd-0bff-40ab-be78-57ef2a798608"
      },
      "execution_count": 4,
      "outputs": [
        {
          "output_type": "stream",
          "name": "stdout",
          "text": [
            "Enter a number: 5\n",
            "The number is Odd\n"
          ]
        }
      ]
    },
    {
      "cell_type": "markdown",
      "source": [
        "Create List from Comma-Separated Input\n"
      ],
      "metadata": {
        "id": "eUfSM10ZbXSD"
      }
    },
    {
      "cell_type": "code",
      "source": [
        "items = input(\"Enter comma-separated numbers: \")\n",
        "item_list = items.split(\",\")\n",
        "print(\"List:\", item_list)\n"
      ],
      "metadata": {
        "colab": {
          "base_uri": "https://localhost:8080/"
        },
        "id": "M7bL841ibbm4",
        "outputId": "4b970a00-9ca7-42f5-9149-1ffa2a95fd61"
      },
      "execution_count": 5,
      "outputs": [
        {
          "output_type": "stream",
          "name": "stdout",
          "text": [
            "Enter comma-separated numbers: 1,2,3,4\n",
            "List: ['1', '2', '3', '4']\n"
          ]
        }
      ]
    },
    {
      "cell_type": "markdown",
      "source": [
        "Display First and Last Color"
      ],
      "metadata": {
        "id": "W1Sn0UAXbwoj"
      }
    },
    {
      "cell_type": "code",
      "source": [
        "colorList = [\"Red\", \"Green\", \"White\", \"Black\"]\n",
        "print(\"First color:\", colorList[0])\n",
        "print(\"Last color:\", colorList[-1])\n"
      ],
      "metadata": {
        "colab": {
          "base_uri": "https://localhost:8080/"
        },
        "id": "YBqnDcfzbxZF",
        "outputId": "2d6b1b7c-ab10-4b56-e3cf-af10d00d1a5e"
      },
      "execution_count": 6,
      "outputs": [
        {
          "output_type": "stream",
          "name": "stdout",
          "text": [
            "First color: Red\n",
            "Last color: Black\n"
          ]
        }
      ]
    },
    {
      "cell_type": "markdown",
      "source": [
        "Largest Among Three Numbers"
      ],
      "metadata": {
        "id": "9k1xKDSVb-4p"
      }
    },
    {
      "cell_type": "code",
      "source": [
        "a = int(input(\"Enter first number: \"))\n",
        "b = int(input(\"Enter second number: \"))\n",
        "c = int(input(\"Enter third number: \"))\n",
        "\n",
        "if a >= b and a >= c:\n",
        "    print(\"Largest number is:\", a)\n",
        "elif b >= a and b >= c:\n",
        "    print(\"Largest number is:\", b)\n",
        "else:\n",
        "    print(\"Largest number is:\", c)\n"
      ],
      "metadata": {
        "colab": {
          "base_uri": "https://localhost:8080/"
        },
        "id": "Ue8xrsFSb_n_",
        "outputId": "40cd8f0d-7745-4747-f667-9ac119ee46d9"
      },
      "execution_count": 7,
      "outputs": [
        {
          "output_type": "stream",
          "name": "stdout",
          "text": [
            "Enter first number: 60\n",
            "Enter second number: 40\n",
            "Enter third number: 90\n",
            "Largest number is: 90\n"
          ]
        }
      ]
    },
    {
      "cell_type": "markdown",
      "source": [
        "Student Grading System"
      ],
      "metadata": {
        "id": "fqzU18c6cSIt"
      }
    },
    {
      "cell_type": "code",
      "source": [
        "marks = int(input(\"Enter your marks: \"))\n",
        "\n",
        "if marks >= 80:\n",
        "    grade = 'A+'\n",
        "elif marks >= 70:\n",
        "    grade = 'A'\n",
        "elif marks >= 60:\n",
        "    grade = 'B'\n",
        "elif marks >= 50:\n",
        "    grade = 'C'\n",
        "else:\n",
        "    grade = 'F'\n",
        "\n",
        "print(\"Your grade is:\", grade)\n"
      ],
      "metadata": {
        "colab": {
          "base_uri": "https://localhost:8080/"
        },
        "id": "r-Wnns9BcTKA",
        "outputId": "3c90e27b-c243-4829-aa41-2584bf2d7c44"
      },
      "execution_count": 8,
      "outputs": [
        {
          "output_type": "stream",
          "name": "stdout",
          "text": [
            "Enter your marks: 60\n",
            "Your grade is: B\n"
          ]
        }
      ]
    },
    {
      "cell_type": "markdown",
      "source": [
        "Sum of 3 numbers. If all are equal, return 3×sum."
      ],
      "metadata": {
        "id": "Lp3jC99OczZL"
      }
    },
    {
      "cell_type": "code",
      "source": [
        "a = int(input(\"Enter first number: \"))\n",
        "b = int(input(\"Enter second number: \"))\n",
        "c = int(input(\"Enter third number: \"))\n",
        "\n",
        "sum_val = a + b + c\n",
        "if a == b == c:\n",
        "    sum_val = sum_val * 3\n",
        "\n",
        "print(\"Result:\", sum_val)\n"
      ],
      "metadata": {
        "colab": {
          "base_uri": "https://localhost:8080/"
        },
        "id": "aGHES4sJc0Dh",
        "outputId": "920d6025-e1ed-4059-a5e7-8948048d036b"
      },
      "execution_count": 10,
      "outputs": [
        {
          "output_type": "stream",
          "name": "stdout",
          "text": [
            "Enter first number: 3\n",
            "Enter second number: 3\n",
            "Enter third number: 2\n",
            "Result: 8\n"
          ]
        }
      ]
    },
    {
      "cell_type": "markdown",
      "source": [
        "Sum of Odd and Even Numbers"
      ],
      "metadata": {
        "id": "Mo12gPe_dcc_"
      }
    },
    {
      "cell_type": "code",
      "source": [
        "numbers = input(\"Enter comma-separated numbers: \")\n",
        "num_list = [int(x) for x in numbers.split(\",\")]\n",
        "\n",
        "even_sum = sum(num for num in num_list if num % 2 == 0)\n",
        "odd_sum = sum(num for num in num_list if num % 2 != 0)\n",
        "\n",
        "print(\"Sum of even numbers:\", even_sum)\n",
        "print(\"Sum of odd numbers:\", odd_sum)\n"
      ],
      "metadata": {
        "colab": {
          "base_uri": "https://localhost:8080/"
        },
        "id": "musoP8OyddoO",
        "outputId": "a5224746-c501-45b6-9b0c-3965fa40acfd"
      },
      "execution_count": 12,
      "outputs": [
        {
          "output_type": "stream",
          "name": "stdout",
          "text": [
            "Enter comma-separated numbers: 1,3,4,5\n",
            "Sum of even numbers: 4\n",
            "Sum of odd numbers: 9\n"
          ]
        }
      ]
    },
    {
      "cell_type": "markdown",
      "source": [
        "Check Validity of Triangle"
      ],
      "metadata": {
        "id": "S5yZlvEAeB2u"
      }
    },
    {
      "cell_type": "code",
      "source": [
        "a = float(input(\"Enter first side: \"))\n",
        "b = float(input(\"Enter second side: \"))\n",
        "c = float(input(\"Enter third side: \"))\n",
        "\n",
        "if a + b > c and a + c > b and b + c > a:\n",
        "    print(\"Triangle is valid\")\n",
        "else:\n",
        "    print(\"Triangle is not valid\")\n"
      ],
      "metadata": {
        "colab": {
          "base_uri": "https://localhost:8080/"
        },
        "id": "d2xIVwTreCf_",
        "outputId": "c892702f-ff9e-438d-e0ed-8fcc1f859478"
      },
      "execution_count": 13,
      "outputs": [
        {
          "output_type": "stream",
          "name": "stdout",
          "text": [
            "Enter first side: 4\n",
            "Enter second side: 5\n",
            "Enter third side: 2\n",
            "Triangle is valid\n"
          ]
        }
      ]
    },
    {
      "cell_type": "markdown",
      "source": [
        "Sum of Odd and Even Numbers (For Loop)"
      ],
      "metadata": {
        "id": "7g8ce6fwhIRJ"
      }
    },
    {
      "cell_type": "code",
      "source": [
        "numbers = input(\"Enter comma-separated numbers: \")\n",
        "nums = [int(x) for x in numbers.split(\",\")]\n",
        "even_sum = sum(num for num in nums if num % 2 == 0)\n",
        "odd_sum = sum(num for num in nums if num % 2 != 0)\n",
        "print(\"Even Sum:\", even_sum)\n",
        "print(\"Odd Sum:\", odd_sum)\n"
      ],
      "metadata": {
        "colab": {
          "base_uri": "https://localhost:8080/"
        },
        "id": "abBVX0e7hKHy",
        "outputId": "157c8753-f4c3-4611-eb92-54c4125a5d2b"
      },
      "execution_count": 14,
      "outputs": [
        {
          "output_type": "stream",
          "name": "stdout",
          "text": [
            "Enter comma-separated numbers: 1,2,3,4\n",
            "Even Sum: 6\n",
            "Odd Sum: 4\n"
          ]
        }
      ]
    },
    {
      "cell_type": "markdown",
      "source": [
        "Smallest Number"
      ],
      "metadata": {
        "id": "-9LMk4Yvhp4d"
      }
    },
    {
      "cell_type": "code",
      "source": [
        "numbers = input(\"Enter comma-separated numbers: \")\n",
        "nums = [int(x) for x in numbers.split(\",\")]\n",
        "print(\"Smallest number is:\", min(nums))\n"
      ],
      "metadata": {
        "colab": {
          "base_uri": "https://localhost:8080/"
        },
        "id": "wEfdey6VhrB5",
        "outputId": "c01ed035-0697-4330-f804-7d368d2bf8dd"
      },
      "execution_count": 15,
      "outputs": [
        {
          "output_type": "stream",
          "name": "stdout",
          "text": [
            "Enter comma-separated numbers: 1,2\n",
            "Smallest number is: 1\n"
          ]
        }
      ]
    },
    {
      "cell_type": "markdown",
      "source": [
        "Sum of Numbers Divisible by 3 but not 5\n",
        "\n",
        "\n",
        "*   Write a Python program to find the sum of all numbers between 50 and 100 that are divisible by 3 and not divisible by 5.\n",
        "\n"
      ],
      "metadata": {
        "id": "7WlkmJzhh4T8"
      }
    },
    {
      "cell_type": "code",
      "source": [
        "total = sum(x for x in range(50, 101) if x % 3 == 0 and x % 5 != 0)\n",
        "print(\"Sum is:\", total)\n"
      ],
      "metadata": {
        "colab": {
          "base_uri": "https://localhost:8080/"
        },
        "id": "rD8VlIsUh5s5",
        "outputId": "527c6de2-86d4-45c1-9937-f7fa62d26efa"
      },
      "execution_count": 16,
      "outputs": [
        {
          "output_type": "stream",
          "name": "stdout",
          "text": [
            "Sum is: 1050\n"
          ]
        }
      ]
    },
    {
      "cell_type": "markdown",
      "source": [
        "Write a Python program to find the second highest number from a set of numbers."
      ],
      "metadata": {
        "id": "o9FThvcoiwHz"
      }
    },
    {
      "cell_type": "code",
      "source": [
        "numbers = input(\"Enter comma-separated numbers: \")\n",
        "nums = sorted(set(int(x) for x in numbers.split(\",\")), reverse=True)\n",
        "print(\"Second highest number is:\", nums[1])\n"
      ],
      "metadata": {
        "colab": {
          "base_uri": "https://localhost:8080/"
        },
        "id": "RUYBupKUi0Z_",
        "outputId": "46c66c0f-b45d-4199-ee09-204869039f25"
      },
      "execution_count": 18,
      "outputs": [
        {
          "output_type": "stream",
          "name": "stdout",
          "text": [
            "Enter comma-separated numbers: 5,9,4,10\n",
            "Second highest number is: 9\n"
          ]
        }
      ]
    },
    {
      "cell_type": "markdown",
      "source": [
        "Write a Python program to find the factorial of a number using for loop."
      ],
      "metadata": {
        "id": "5biydPlqjKmK"
      }
    },
    {
      "cell_type": "code",
      "source": [
        "num = int(input(\"Enter a number: \"))\n",
        "fact = 1\n",
        "for i in range(1, num + 1):\n",
        "    fact *= i\n",
        "print(\"Factorial is:\", fact)\n"
      ],
      "metadata": {
        "colab": {
          "base_uri": "https://localhost:8080/"
        },
        "id": "ce8UVkNfjL6B",
        "outputId": "4a5c1464-171d-452a-ec3c-097776dbe202"
      },
      "execution_count": 19,
      "outputs": [
        {
          "output_type": "stream",
          "name": "stdout",
          "text": [
            "Enter a number: 5\n",
            "Factorial is: 120\n"
          ]
        }
      ]
    },
    {
      "cell_type": "markdown",
      "source": [
        "Write a Python program to generate Fibonacci series."
      ],
      "metadata": {
        "id": "9jWoQJ5QjZ1m"
      }
    },
    {
      "cell_type": "code",
      "source": [
        "n = int(input(\"Enter the number of terms: \"))\n",
        "a, b = 0, 1\n",
        "for i in range(n):\n",
        "    print(a, end=\" \")\n",
        "    a, b = b, a + b\n"
      ],
      "metadata": {
        "colab": {
          "base_uri": "https://localhost:8080/"
        },
        "id": "3nJIt-dlja5l",
        "outputId": "38bf81bc-09ad-4b71-b3fe-0833a2b345b4"
      },
      "execution_count": 20,
      "outputs": [
        {
          "output_type": "stream",
          "name": "stdout",
          "text": [
            "Enter the number of terms: 5\n",
            "0 1 1 2 3 "
          ]
        }
      ]
    },
    {
      "cell_type": "markdown",
      "source": [
        "Write a Python program to find the largest number between two numbers using a function."
      ],
      "metadata": {
        "id": "wG4zQugBjxQo"
      }
    },
    {
      "cell_type": "code",
      "source": [
        "def largest(a, b):\n",
        "    return a if a > b else b\n",
        "\n",
        "print(\"Largest is:\", largest(4, 7))\n"
      ],
      "metadata": {
        "colab": {
          "base_uri": "https://localhost:8080/"
        },
        "id": "GV3ynN7OjyBj",
        "outputId": "e1aa23da-e226-4825-e31e-05173db22247"
      },
      "execution_count": 21,
      "outputs": [
        {
          "output_type": "stream",
          "name": "stdout",
          "text": [
            "Largest is: 7\n"
          ]
        }
      ]
    },
    {
      "cell_type": "markdown",
      "source": [
        "Write a Python program to find the sum of the numbers passed as parameters.\n",
        "\n",
        "\n"
      ],
      "metadata": {
        "id": "LcCWqvw5kC7e"
      }
    },
    {
      "cell_type": "code",
      "source": [
        "def total(*args):\n",
        "    return sum(args)\n",
        "\n",
        "print(\"Sum is:\", total(1, 2, 3, 4))"
      ],
      "metadata": {
        "colab": {
          "base_uri": "https://localhost:8080/"
        },
        "id": "0i1O9mH-kFTz",
        "outputId": "c036888e-6224-4b78-8fc1-00546939b95c"
      },
      "execution_count": 22,
      "outputs": [
        {
          "output_type": "stream",
          "name": "stdout",
          "text": [
            "Sum is: 10\n"
          ]
        }
      ]
    },
    {
      "cell_type": "markdown",
      "source": [
        "Define a Python function student(). Using function attributes display the names of all arguments."
      ],
      "metadata": {
        "id": "9U8tHHM4kVme"
      }
    },
    {
      "cell_type": "code",
      "source": [
        "\n",
        "def student(name, id, dept):\n",
        "    pass\n",
        "\n",
        "student.__code__.co_varnames\n"
      ],
      "metadata": {
        "colab": {
          "base_uri": "https://localhost:8080/"
        },
        "id": "JIuN1xOMkYs-",
        "outputId": "e0f4fa78-f854-4317-a4d4-ee71cfc2aa15"
      },
      "execution_count": 23,
      "outputs": [
        {
          "output_type": "execute_result",
          "data": {
            "text/plain": [
              "('name', 'id', 'dept')"
            ]
          },
          "metadata": {},
          "execution_count": 23
        }
      ]
    },
    {
      "cell_type": "markdown",
      "source": [
        "Write a function studentId() to print ID. If arguments are passed, show name and class too.\n"
      ],
      "metadata": {
        "id": "DG8zskPrkmlD"
      }
    },
    {
      "cell_type": "code",
      "source": [
        "\n",
        "def studentId(**kwargs):\n",
        "    if 'id' in kwargs:\n",
        "        print(\"ID:\", kwargs['id'])\n",
        "    if 'name' in kwargs and 'cls' in kwargs:\n",
        "        print(\"Name:\", kwargs['name'])\n",
        "        print(\"Class:\", kwargs['cls'])\n",
        "\n",
        "studentId(id=101)\n",
        "studentId(id=102, name=\"Jabed\", cls=\"14\")\n"
      ],
      "metadata": {
        "colab": {
          "base_uri": "https://localhost:8080/"
        },
        "id": "4yy9coOBkpPs",
        "outputId": "db309a31-4811-4b0f-cc87-36e0b6fe0ac5"
      },
      "execution_count": 25,
      "outputs": [
        {
          "output_type": "stream",
          "name": "stdout",
          "text": [
            "ID: 101\n",
            "ID: 102\n",
            "Name: Jabed\n",
            "Class: 14\n"
          ]
        }
      ]
    }
  ]
}