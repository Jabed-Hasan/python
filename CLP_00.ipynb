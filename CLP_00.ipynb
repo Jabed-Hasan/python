{
  "nbformat": 4,
  "nbformat_minor": 0,
  "metadata": {
    "colab": {
      "provenance": [],
      "include_colab_link": true
    },
    "kernelspec": {
      "name": "python3",
      "display_name": "Python 3"
    },
    "language_info": {
      "name": "python"
    }
  },
  "cells": [
    {
      "cell_type": "markdown",
      "metadata": {
        "id": "view-in-github",
        "colab_type": "text"
      },
      "source": [
        "<a href=\"https://colab.research.google.com/github/Jabed-Hasan/python/blob/main/CLP_00.ipynb\" target=\"_parent\"><img src=\"https://colab.research.google.com/assets/colab-badge.svg\" alt=\"Open In Colab\"/></a>"
      ]
    },
    {
      "cell_type": "markdown",
      "source": [
        "# **Lab Manual 1-**\n",
        "\n",
        "Lab task 1:\n",
        "Write a Python program to find the largest among three numbers.\n"
      ],
      "metadata": {
        "id": "No2kjrpT7KAX"
      }
    },
    {
      "cell_type": "code",
      "source": [
        "a = int(input(\"First number: \"))\n",
        "b = int(input(\"Second number: \"))\n",
        "c = int(input(\"Third number: \"))\n",
        "\n",
        "largest =-9734234\n",
        "if(largest < a):\n",
        "  largest = a\n",
        "\n",
        "if(largest < b):\n",
        "  largest = b\n",
        "\n",
        "if(largest < c):\n",
        "  largest =c\n",
        "\n",
        "print (largest)"
      ],
      "metadata": {
        "colab": {
          "base_uri": "https://localhost:8080/"
        },
        "id": "12ONsNHo7YjH",
        "outputId": "2914d9c4-e881-4bdc-f22d-c5137224dee8"
      },
      "execution_count": null,
      "outputs": [
        {
          "output_type": "stream",
          "name": "stdout",
          "text": [
            "First number: 7\n",
            "Second number: 4\n",
            "Third number: 9\n",
            "9\n"
          ]
        }
      ]
    },
    {
      "cell_type": "markdown",
      "source": [
        "# **Lab Manual 1-**\n",
        "\n",
        "Lab task 2:\n",
        "Write a Python program to display student grades."
      ],
      "metadata": {
        "id": "KoeWcB3o9sbg"
      }
    },
    {
      "cell_type": "code",
      "source": [
        "def calculate_grade(mark):\n",
        "    if mark >= 90:\n",
        "        return 'A+'\n",
        "    elif mark >= 80:\n",
        "        return 'A'\n",
        "    elif mark >= 70:\n",
        "        return 'B'\n",
        "    elif mark >= 60:\n",
        "        return 'C'\n",
        "    elif mark >= 50:\n",
        "        return 'D'\n",
        "    else:\n",
        "        return 'F'\n",
        "\n",
        "mark = float(input(\"Enter marks for the subject: \"))\n",
        "\n",
        "\n",
        "grade = calculate_grade(mark)\n",
        "\n",
        "\n",
        "print(\"Grade:\", grade)\n",
        "\n"
      ],
      "metadata": {
        "colab": {
          "base_uri": "https://localhost:8080/"
        },
        "id": "ikEPMdog91hd",
        "outputId": "0d1220ad-b675-464b-f09a-4ff51f6b1c0f"
      },
      "execution_count": null,
      "outputs": [
        {
          "output_type": "stream",
          "name": "stdout",
          "text": [
            "Enter marks for the subject: 86\n",
            "Grade: A\n"
          ]
        }
      ]
    },
    {
      "cell_type": "markdown",
      "source": [
        "# **Lab Manual 1-**\n",
        "\n",
        "Lab task 3:\n",
        "Write a Python program to calculate the sum of three given numbers, if the values are equal then return\n",
        "three times of their sum. is even or odd, print out an appropriate message to the user."
      ],
      "metadata": {
        "id": "i08QE_h2_jFh"
      }
    },
    {
      "cell_type": "code",
      "source": [
        "num1 = int(input(\"Enter first number: \"))\n",
        "num2 = int(input(\"Enter second number: \"))\n",
        "num3 = int(input(\"Enter third number: \"))\n",
        "\n",
        "total = num1 + num2 + num3\n",
        "\n",
        "if num1 == num2 == num3:\n",
        "    total *= 3\n",
        "\n",
        "print(\"Calculated sum:\", total)\n",
        "\n",
        "\n",
        "if total % 2 == 0:\n",
        "    print(\"The result is even.\")\n",
        "else:\n",
        "    print(\"The result is odd.\")\n"
      ],
      "metadata": {
        "colab": {
          "base_uri": "https://localhost:8080/"
        },
        "id": "adtotpZ7_usk",
        "outputId": "a42c910b-9865-4fa7-ef27-fe7e9a9ad9a0"
      },
      "execution_count": null,
      "outputs": [
        {
          "output_type": "stream",
          "name": "stdout",
          "text": [
            "Enter first number: 4\n",
            "Enter second number: 6\n",
            "Enter third number: 9\n",
            "Calculated sum: 19\n",
            "The result is odd.\n"
          ]
        }
      ]
    },
    {
      "cell_type": "markdown",
      "source": [
        "# **Lab Manual 1-**\n",
        "\n",
        "Lab Exercise 1:\n",
        "Write a Python program to find the sum of odd and even numbers from a set of numbers."
      ],
      "metadata": {
        "id": "L3qXIkAoAAP-"
      }
    },
    {
      "cell_type": "code",
      "source": [
        "\n",
        "numbers_input = input(\"Enter numbers separated by spaces: \")\n",
        "\n",
        "numbers = [int(num) for num in numbers_input.split()]\n",
        "\n",
        "sum_even = 0\n",
        "sum_odd = 0\n",
        "\n",
        "for num in numbers:\n",
        "    if num % 2 == 0:\n",
        "        sum_even += num\n",
        "    else:\n",
        "        sum_odd += num\n",
        "\n",
        "\n",
        "print(\"Sum of even numbers:\", sum_even)\n",
        "print(\"Sum of odd numbers:\", sum_odd)\n"
      ],
      "metadata": {
        "colab": {
          "base_uri": "https://localhost:8080/"
        },
        "id": "eWbDvEM2ANLA",
        "outputId": "aefe5470-f358-4286-dc7f-45a82c137bb3"
      },
      "execution_count": null,
      "outputs": [
        {
          "output_type": "stream",
          "name": "stdout",
          "text": [
            "Enter numbers separated by spaces: 2 3 5 8 2 9 0 2 5\n",
            "Sum of even numbers: 14\n",
            "Sum of odd numbers: 22\n"
          ]
        }
      ]
    },
    {
      "cell_type": "markdown",
      "source": [
        "# **Lab Manual 1-**\n",
        "\n",
        "Lab Exercise 2: Write a Python program to Check Triangle is Valid or Not"
      ],
      "metadata": {
        "id": "k81IqoQ2AjIA"
      }
    },
    {
      "cell_type": "code",
      "source": [
        "a = float(input(\"Enter first side: \"))\n",
        "b = float(input(\"Enter second side: \"))\n",
        "c = float(input(\"Enter third side: \"))\n",
        "\n",
        "if (a + b > c) and (a + c > b) and (b + c > a):\n",
        "    print(\"The triangle is valid.\")\n",
        "else:\n",
        "    print(\"The triangle is NOT valid.\")\n"
      ],
      "metadata": {
        "colab": {
          "base_uri": "https://localhost:8080/"
        },
        "id": "B5iK9NL7ArCg",
        "outputId": "e278d43e-da87-45af-a873-5641d15e5555"
      },
      "execution_count": null,
      "outputs": [
        {
          "output_type": "stream",
          "name": "stdout",
          "text": [
            "Enter first side: 4.6\n",
            "Enter second side: 5.8\n",
            "Enter third side: 6.5\n",
            "The triangle is valid.\n"
          ]
        }
      ]
    },
    {
      "cell_type": "markdown",
      "source": [
        "# **Lab Manual 2-**\n",
        "\n",
        "Lab task 1: Define a Python function student(). Using function attributes display the names of all arguments.\n"
      ],
      "metadata": {
        "id": "GXBRgwwnBG2P"
      }
    },
    {
      "cell_type": "code",
      "source": [
        "def student(name, age, grade):\n",
        "    pass\n",
        "\n",
        "# Get argument names\n",
        "arg_count = student.__code__.co_argcount\n",
        "arg_names = student.__code__.co_varnames[:arg_count]\n",
        "\n",
        "print(\"Argument names:\", arg_names)\n"
      ],
      "metadata": {
        "colab": {
          "base_uri": "https://localhost:8080/"
        },
        "id": "gQoMc7QsBVm4",
        "outputId": "0c6d6a0d-253c-4bc2-9bb0-88f8d417ef7f"
      },
      "execution_count": null,
      "outputs": [
        {
          "output_type": "stream",
          "name": "stdout",
          "text": [
            "Argument names: ('name', 'age', 'grade')\n"
          ]
        }
      ]
    },
    {
      "cell_type": "markdown",
      "source": [
        "# **Lab Manual 2-**\n",
        "\n",
        "Lab task 2: Write a Python function studentId () which will print the id of a student (studentId). If the user passes\n",
        "an argument studentId or studentId the function will print the student name and class."
      ],
      "metadata": {
        "id": "xCfBFFlOB3Gb"
      }
    },
    {
      "cell_type": "code",
      "source": [
        "def studentId(student_id=None):\n",
        "\n",
        "    students = {\n",
        "        101: {\"name\": \"Farhan\", \"class\": \"5th Grade\"},\n",
        "        102: {\"name\": \"Sadik\", \"class\": \"6th Grade\"},\n",
        "        103: {\"name\": \"Anik\", \"class\": \"7th Grade\"},\n",
        "    }\n",
        "\n",
        "    if student_id is None:\n",
        "        print(\"Student ID: (no ID provided)\")\n",
        "    else:\n",
        "        info = students.get(student_id)\n",
        "        if info:\n",
        "            print(\"Student Name:\", info[\"name\"])\n",
        "            print(\"Class:\", info[\"class\"])\n",
        "        else:\n",
        "            print(\"Student ID not found.\")\n",
        "\n",
        "\n",
        "studentId()\n",
        "studentId(101)\n",
        "studentId(999)\n"
      ],
      "metadata": {
        "colab": {
          "base_uri": "https://localhost:8080/"
        },
        "id": "h6jFs7M6B7Vo",
        "outputId": "185d460a-009c-44d8-9f20-9ba755ebbda4"
      },
      "execution_count": null,
      "outputs": [
        {
          "output_type": "stream",
          "name": "stdout",
          "text": [
            "Student ID: (no ID provided)\n",
            "Student Name: Farhan\n",
            "Class: 5th Grade\n",
            "Student ID not found.\n"
          ]
        }
      ]
    },
    {
      "cell_type": "markdown",
      "source": [
        "# **Lab Manual 2-**\n",
        "\n",
        "Lab Exercise 1: Write a Python program to crate two empty classes, Student and Marks. Now create some instances\n",
        "and check whether they are instances of the said classes or not. Also, check whether the said classes are\n",
        "subclasses of the built-in object class or not.\n"
      ],
      "metadata": {
        "id": "dRy7_S50CZbs"
      }
    },
    {
      "cell_type": "code",
      "source": [
        "\n",
        "class Student:\n",
        "    pass\n",
        "\n",
        "class Marks:\n",
        "    pass\n",
        "\n",
        "student1 = Student()\n",
        "marks1 = Marks()\n",
        "\n",
        "print(\"Is student1 an instance of Student?\", isinstance(student1, Student))\n",
        "print(\"Is marks1 an instance of Marks?\", isinstance(marks1, Marks))\n",
        "\n",
        "print(\"Is Student a subclass of object?\", issubclass(Student, object))\n",
        "print(\"Is Marks a subclass of object?\", issubclass(Marks, object))\n"
      ],
      "metadata": {
        "colab": {
          "base_uri": "https://localhost:8080/"
        },
        "id": "YQv434MECmtN",
        "outputId": "c3762079-6776-476d-9270-cff6fd6ab57f"
      },
      "execution_count": null,
      "outputs": [
        {
          "output_type": "stream",
          "name": "stdout",
          "text": [
            "Is student1 an instance of Student? True\n",
            "Is marks1 an instance of Marks? True\n",
            "Is Student a subclass of object? True\n",
            "Is Marks a subclass of object? True\n"
          ]
        }
      ]
    },
    {
      "cell_type": "markdown",
      "source": [
        "# **Lab Manual 2-**\n",
        "\n",
        "Lab Exercise 2: Write a Python class named Student with two attributes studentName, marks. Modify the attribute\n",
        "values of the said class and print the original and modified values of the said attributes."
      ],
      "metadata": {
        "id": "kWQigUMTCtiA"
      }
    },
    {
      "cell_type": "code",
      "source": [
        "class Student:\n",
        "    def __init__(self, studentName, marks):\n",
        "        self.studentName = studentName\n",
        "        self.marks = marks\n",
        "\n",
        "\n",
        "student1 = Student(\"Farhan\", 85)\n",
        "\n",
        "\n",
        "print(\"Original Student Details:\")\n",
        "print(\"Name:\", student1.studentName)\n",
        "print(\"Marks:\", student1.marks)\n",
        "\n",
        "\n",
        "student1.studentName = \"Sadik\"\n",
        "student1.marks = 92\n",
        "\n",
        "\n",
        "print(\"\\nModified Student Details:\")\n",
        "print(\"Name:\", student1.studentName)\n",
        "print(\"Marks:\", student1.marks)\n"
      ],
      "metadata": {
        "colab": {
          "base_uri": "https://localhost:8080/"
        },
        "id": "FXjS1XjsC3RU",
        "outputId": "a8a82b05-d27d-46c9-d969-0ceb623dd698"
      },
      "execution_count": null,
      "outputs": [
        {
          "output_type": "stream",
          "name": "stdout",
          "text": [
            "Original Student Details:\n",
            "Name: Farhan\n",
            "Marks: 85\n",
            "\n",
            "Modified Student Details:\n",
            "Name: Sadik\n",
            "Marks: 92\n"
          ]
        }
      ]
    },
    {
      "cell_type": "markdown",
      "source": [
        "# **Lab Manual 2-**\n",
        "\n",
        "Lab Exercise 3: Write a Python class named Student with two attributes studentId, studentName. Add a new attribute\n",
        "\n",
        "studentClass and display the entire attribute and their values of the said class. Now remove the student-\n",
        "Name attribute and display the entire attribute with values.\n"
      ],
      "metadata": {
        "id": "MGD4leXJDFN1"
      }
    },
    {
      "cell_type": "code",
      "source": [
        "class Student:\n",
        "    def __init__(self, studentId, studentName):\n",
        "        self.studentId = studentId\n",
        "        self.studentName = studentName\n",
        "\n",
        "\n",
        "student1 = Student(101, \"Farhan\")\n",
        "\n",
        "student1.studentClass = \"5th Grade\"\n",
        "\n",
        "\n",
        "print(\"Student attributes and values (before removing studentName):\")\n",
        "for attr, value in student1.__dict__.items():\n",
        "    print(f\"{attr}: {value}\")\n",
        "\n",
        "del student1.studentName\n",
        "\n",
        "\n",
        "print(\"\\nStudent attributes and values (after removing studentName):\")\n",
        "for attr, value in student1.__dict__.items():\n",
        "    print(f\"{attr}: {value}\")\n"
      ],
      "metadata": {
        "colab": {
          "base_uri": "https://localhost:8080/"
        },
        "id": "xGI24fvODWDY",
        "outputId": "76d7e303-d5f2-444f-b8f8-cf8e218f2b6b"
      },
      "execution_count": null,
      "outputs": [
        {
          "output_type": "stream",
          "name": "stdout",
          "text": [
            "Student attributes and values (before removing studentName):\n",
            "studentId: 101\n",
            "studentName: Farhan\n",
            "studentClass: 5th Grade\n",
            "\n",
            "Student attributes and values (after removing studentName):\n",
            "studentId: 101\n",
            "studentClass: 5th Grade\n"
          ]
        }
      ]
    },
    {
      "cell_type": "markdown",
      "source": [
        "# **Lab Manual 2-**\n",
        "\n",
        "Lab Exercise 4: Write a Python class named Student with two attributes studentId, studentName. Add a new attribute\n",
        "studentClass. Create a function to display the entire attribute and their values in Student class.\n"
      ],
      "metadata": {
        "id": "BzSnpkTcDdGz"
      }
    },
    {
      "cell_type": "code",
      "source": [
        "class Student:\n",
        "    def __init__(self, studentId, studentName):\n",
        "        self.studentId = studentId\n",
        "        self.studentName = studentName\n",
        "\n",
        "        self.studentClass = None\n",
        "\n",
        "    def display_attributes(self):\n",
        "        print(\"Student attributes and their values:\")\n",
        "        for attr, value in self.__dict__.items():\n",
        "            print(f\"{attr}: {value}\")\n",
        "\n",
        "\n",
        "student1 = Student(101, \"Farhan\")\n",
        "\n",
        "student1.studentClass = \"5th Grade\"\n",
        "\n",
        "\n",
        "student1.display_attributes()\n"
      ],
      "metadata": {
        "colab": {
          "base_uri": "https://localhost:8080/"
        },
        "id": "3Yn9K-snDltU",
        "outputId": "8cbbc1a4-bdcc-4f08-aa8c-75a6a339826c"
      },
      "execution_count": null,
      "outputs": [
        {
          "output_type": "stream",
          "name": "stdout",
          "text": [
            "Student attributes and their values:\n",
            "studentId: 101\n",
            "studentName: Farhan\n",
            "studentClass: 5th Grade\n"
          ]
        }
      ]
    },
    {
      "cell_type": "markdown",
      "source": [
        "# **Lab Manual 4**\n",
        "Lab Exercise 1: Develop a jupyter notebook in Colab or Kaggle using all of the data processing criteria shown in the class.\n",
        "Choose an appropriate dataset from kaggle or any other sources containg NULL and garbage values (If\n",
        "\n",
        "not found, manipulate dataset by your own), then show the effect of all visualizing techniques with proper\n",
        "documentation in the notebook."
      ],
      "metadata": {
        "id": "j1-Yq51vEXlc"
      }
    },
    {
      "cell_type": "markdown",
      "source": [
        " **Import Libraries**"
      ],
      "metadata": {
        "id": "lFEA_ZcsFmfy"
      }
    },
    {
      "cell_type": "code",
      "source": [
        "import pandas as pd\n",
        "import numpy as np\n",
        "import seaborn as sns\n",
        "import matplotlib.pyplot as plt\n"
      ],
      "metadata": {
        "id": "gCnDU2PTEioI"
      },
      "execution_count": 2,
      "outputs": []
    },
    {
      "cell_type": "markdown",
      "source": [
        "**Load Dataset (Titanic Example)**"
      ],
      "metadata": {
        "id": "uLgiAJO-FvI7"
      }
    },
    {
      "cell_type": "code",
      "source": [
        "df = pd.read_csv(\"https://raw.githubusercontent.com/datasciencedojo/datasets/master/titanic.csv\")\n",
        "df.head()"
      ],
      "metadata": {
        "colab": {
          "base_uri": "https://localhost:8080/",
          "height": 206
        },
        "collapsed": true,
        "id": "en_bgStRFz-j",
        "outputId": "c603fa76-b6b2-4dd2-c197-8726095c0945"
      },
      "execution_count": 3,
      "outputs": [
        {
          "output_type": "execute_result",
          "data": {
            "text/plain": [
              "   PassengerId  Survived  Pclass  \\\n",
              "0            1         0       3   \n",
              "1            2         1       1   \n",
              "2            3         1       3   \n",
              "3            4         1       1   \n",
              "4            5         0       3   \n",
              "\n",
              "                                                Name     Sex   Age  SibSp  \\\n",
              "0                            Braund, Mr. Owen Harris    male  22.0      1   \n",
              "1  Cumings, Mrs. John Bradley (Florence Briggs Th...  female  38.0      1   \n",
              "2                             Heikkinen, Miss. Laina  female  26.0      0   \n",
              "3       Futrelle, Mrs. Jacques Heath (Lily May Peel)  female  35.0      1   \n",
              "4                           Allen, Mr. William Henry    male  35.0      0   \n",
              "\n",
              "   Parch            Ticket     Fare Cabin Embarked  \n",
              "0      0         A/5 21171   7.2500   NaN        S  \n",
              "1      0          PC 17599  71.2833   C85        C  \n",
              "2      0  STON/O2. 3101282   7.9250   NaN        S  \n",
              "3      0            113803  53.1000  C123        S  \n",
              "4      0            373450   8.0500   NaN        S  "
            ],
            "text/html": [
              "\n",
              "  <div id=\"df-c0e12791-cca4-4288-b5a2-f829c9ff0474\" class=\"colab-df-container\">\n",
              "    <div>\n",
              "<style scoped>\n",
              "    .dataframe tbody tr th:only-of-type {\n",
              "        vertical-align: middle;\n",
              "    }\n",
              "\n",
              "    .dataframe tbody tr th {\n",
              "        vertical-align: top;\n",
              "    }\n",
              "\n",
              "    .dataframe thead th {\n",
              "        text-align: right;\n",
              "    }\n",
              "</style>\n",
              "<table border=\"1\" class=\"dataframe\">\n",
              "  <thead>\n",
              "    <tr style=\"text-align: right;\">\n",
              "      <th></th>\n",
              "      <th>PassengerId</th>\n",
              "      <th>Survived</th>\n",
              "      <th>Pclass</th>\n",
              "      <th>Name</th>\n",
              "      <th>Sex</th>\n",
              "      <th>Age</th>\n",
              "      <th>SibSp</th>\n",
              "      <th>Parch</th>\n",
              "      <th>Ticket</th>\n",
              "      <th>Fare</th>\n",
              "      <th>Cabin</th>\n",
              "      <th>Embarked</th>\n",
              "    </tr>\n",
              "  </thead>\n",
              "  <tbody>\n",
              "    <tr>\n",
              "      <th>0</th>\n",
              "      <td>1</td>\n",
              "      <td>0</td>\n",
              "      <td>3</td>\n",
              "      <td>Braund, Mr. Owen Harris</td>\n",
              "      <td>male</td>\n",
              "      <td>22.0</td>\n",
              "      <td>1</td>\n",
              "      <td>0</td>\n",
              "      <td>A/5 21171</td>\n",
              "      <td>7.2500</td>\n",
              "      <td>NaN</td>\n",
              "      <td>S</td>\n",
              "    </tr>\n",
              "    <tr>\n",
              "      <th>1</th>\n",
              "      <td>2</td>\n",
              "      <td>1</td>\n",
              "      <td>1</td>\n",
              "      <td>Cumings, Mrs. John Bradley (Florence Briggs Th...</td>\n",
              "      <td>female</td>\n",
              "      <td>38.0</td>\n",
              "      <td>1</td>\n",
              "      <td>0</td>\n",
              "      <td>PC 17599</td>\n",
              "      <td>71.2833</td>\n",
              "      <td>C85</td>\n",
              "      <td>C</td>\n",
              "    </tr>\n",
              "    <tr>\n",
              "      <th>2</th>\n",
              "      <td>3</td>\n",
              "      <td>1</td>\n",
              "      <td>3</td>\n",
              "      <td>Heikkinen, Miss. Laina</td>\n",
              "      <td>female</td>\n",
              "      <td>26.0</td>\n",
              "      <td>0</td>\n",
              "      <td>0</td>\n",
              "      <td>STON/O2. 3101282</td>\n",
              "      <td>7.9250</td>\n",
              "      <td>NaN</td>\n",
              "      <td>S</td>\n",
              "    </tr>\n",
              "    <tr>\n",
              "      <th>3</th>\n",
              "      <td>4</td>\n",
              "      <td>1</td>\n",
              "      <td>1</td>\n",
              "      <td>Futrelle, Mrs. Jacques Heath (Lily May Peel)</td>\n",
              "      <td>female</td>\n",
              "      <td>35.0</td>\n",
              "      <td>1</td>\n",
              "      <td>0</td>\n",
              "      <td>113803</td>\n",
              "      <td>53.1000</td>\n",
              "      <td>C123</td>\n",
              "      <td>S</td>\n",
              "    </tr>\n",
              "    <tr>\n",
              "      <th>4</th>\n",
              "      <td>5</td>\n",
              "      <td>0</td>\n",
              "      <td>3</td>\n",
              "      <td>Allen, Mr. William Henry</td>\n",
              "      <td>male</td>\n",
              "      <td>35.0</td>\n",
              "      <td>0</td>\n",
              "      <td>0</td>\n",
              "      <td>373450</td>\n",
              "      <td>8.0500</td>\n",
              "      <td>NaN</td>\n",
              "      <td>S</td>\n",
              "    </tr>\n",
              "  </tbody>\n",
              "</table>\n",
              "</div>\n",
              "    <div class=\"colab-df-buttons\">\n",
              "\n",
              "  <div class=\"colab-df-container\">\n",
              "    <button class=\"colab-df-convert\" onclick=\"convertToInteractive('df-c0e12791-cca4-4288-b5a2-f829c9ff0474')\"\n",
              "            title=\"Convert this dataframe to an interactive table.\"\n",
              "            style=\"display:none;\">\n",
              "\n",
              "  <svg xmlns=\"http://www.w3.org/2000/svg\" height=\"24px\" viewBox=\"0 -960 960 960\">\n",
              "    <path d=\"M120-120v-720h720v720H120Zm60-500h600v-160H180v160Zm220 220h160v-160H400v160Zm0 220h160v-160H400v160ZM180-400h160v-160H180v160Zm440 0h160v-160H620v160ZM180-180h160v-160H180v160Zm440 0h160v-160H620v160Z\"/>\n",
              "  </svg>\n",
              "    </button>\n",
              "\n",
              "  <style>\n",
              "    .colab-df-container {\n",
              "      display:flex;\n",
              "      gap: 12px;\n",
              "    }\n",
              "\n",
              "    .colab-df-convert {\n",
              "      background-color: #E8F0FE;\n",
              "      border: none;\n",
              "      border-radius: 50%;\n",
              "      cursor: pointer;\n",
              "      display: none;\n",
              "      fill: #1967D2;\n",
              "      height: 32px;\n",
              "      padding: 0 0 0 0;\n",
              "      width: 32px;\n",
              "    }\n",
              "\n",
              "    .colab-df-convert:hover {\n",
              "      background-color: #E2EBFA;\n",
              "      box-shadow: 0px 1px 2px rgba(60, 64, 67, 0.3), 0px 1px 3px 1px rgba(60, 64, 67, 0.15);\n",
              "      fill: #174EA6;\n",
              "    }\n",
              "\n",
              "    .colab-df-buttons div {\n",
              "      margin-bottom: 4px;\n",
              "    }\n",
              "\n",
              "    [theme=dark] .colab-df-convert {\n",
              "      background-color: #3B4455;\n",
              "      fill: #D2E3FC;\n",
              "    }\n",
              "\n",
              "    [theme=dark] .colab-df-convert:hover {\n",
              "      background-color: #434B5C;\n",
              "      box-shadow: 0px 1px 3px 1px rgba(0, 0, 0, 0.15);\n",
              "      filter: drop-shadow(0px 1px 2px rgba(0, 0, 0, 0.3));\n",
              "      fill: #FFFFFF;\n",
              "    }\n",
              "  </style>\n",
              "\n",
              "    <script>\n",
              "      const buttonEl =\n",
              "        document.querySelector('#df-c0e12791-cca4-4288-b5a2-f829c9ff0474 button.colab-df-convert');\n",
              "      buttonEl.style.display =\n",
              "        google.colab.kernel.accessAllowed ? 'block' : 'none';\n",
              "\n",
              "      async function convertToInteractive(key) {\n",
              "        const element = document.querySelector('#df-c0e12791-cca4-4288-b5a2-f829c9ff0474');\n",
              "        const dataTable =\n",
              "          await google.colab.kernel.invokeFunction('convertToInteractive',\n",
              "                                                    [key], {});\n",
              "        if (!dataTable) return;\n",
              "\n",
              "        const docLinkHtml = 'Like what you see? Visit the ' +\n",
              "          '<a target=\"_blank\" href=https://colab.research.google.com/notebooks/data_table.ipynb>data table notebook</a>'\n",
              "          + ' to learn more about interactive tables.';\n",
              "        element.innerHTML = '';\n",
              "        dataTable['output_type'] = 'display_data';\n",
              "        await google.colab.output.renderOutput(dataTable, element);\n",
              "        const docLink = document.createElement('div');\n",
              "        docLink.innerHTML = docLinkHtml;\n",
              "        element.appendChild(docLink);\n",
              "      }\n",
              "    </script>\n",
              "  </div>\n",
              "\n",
              "\n",
              "    <div id=\"df-7bd5ff55-9809-4116-9140-8b258943b934\">\n",
              "      <button class=\"colab-df-quickchart\" onclick=\"quickchart('df-7bd5ff55-9809-4116-9140-8b258943b934')\"\n",
              "                title=\"Suggest charts\"\n",
              "                style=\"display:none;\">\n",
              "\n",
              "<svg xmlns=\"http://www.w3.org/2000/svg\" height=\"24px\"viewBox=\"0 0 24 24\"\n",
              "     width=\"24px\">\n",
              "    <g>\n",
              "        <path d=\"M19 3H5c-1.1 0-2 .9-2 2v14c0 1.1.9 2 2 2h14c1.1 0 2-.9 2-2V5c0-1.1-.9-2-2-2zM9 17H7v-7h2v7zm4 0h-2V7h2v10zm4 0h-2v-4h2v4z\"/>\n",
              "    </g>\n",
              "</svg>\n",
              "      </button>\n",
              "\n",
              "<style>\n",
              "  .colab-df-quickchart {\n",
              "      --bg-color: #E8F0FE;\n",
              "      --fill-color: #1967D2;\n",
              "      --hover-bg-color: #E2EBFA;\n",
              "      --hover-fill-color: #174EA6;\n",
              "      --disabled-fill-color: #AAA;\n",
              "      --disabled-bg-color: #DDD;\n",
              "  }\n",
              "\n",
              "  [theme=dark] .colab-df-quickchart {\n",
              "      --bg-color: #3B4455;\n",
              "      --fill-color: #D2E3FC;\n",
              "      --hover-bg-color: #434B5C;\n",
              "      --hover-fill-color: #FFFFFF;\n",
              "      --disabled-bg-color: #3B4455;\n",
              "      --disabled-fill-color: #666;\n",
              "  }\n",
              "\n",
              "  .colab-df-quickchart {\n",
              "    background-color: var(--bg-color);\n",
              "    border: none;\n",
              "    border-radius: 50%;\n",
              "    cursor: pointer;\n",
              "    display: none;\n",
              "    fill: var(--fill-color);\n",
              "    height: 32px;\n",
              "    padding: 0;\n",
              "    width: 32px;\n",
              "  }\n",
              "\n",
              "  .colab-df-quickchart:hover {\n",
              "    background-color: var(--hover-bg-color);\n",
              "    box-shadow: 0 1px 2px rgba(60, 64, 67, 0.3), 0 1px 3px 1px rgba(60, 64, 67, 0.15);\n",
              "    fill: var(--button-hover-fill-color);\n",
              "  }\n",
              "\n",
              "  .colab-df-quickchart-complete:disabled,\n",
              "  .colab-df-quickchart-complete:disabled:hover {\n",
              "    background-color: var(--disabled-bg-color);\n",
              "    fill: var(--disabled-fill-color);\n",
              "    box-shadow: none;\n",
              "  }\n",
              "\n",
              "  .colab-df-spinner {\n",
              "    border: 2px solid var(--fill-color);\n",
              "    border-color: transparent;\n",
              "    border-bottom-color: var(--fill-color);\n",
              "    animation:\n",
              "      spin 1s steps(1) infinite;\n",
              "  }\n",
              "\n",
              "  @keyframes spin {\n",
              "    0% {\n",
              "      border-color: transparent;\n",
              "      border-bottom-color: var(--fill-color);\n",
              "      border-left-color: var(--fill-color);\n",
              "    }\n",
              "    20% {\n",
              "      border-color: transparent;\n",
              "      border-left-color: var(--fill-color);\n",
              "      border-top-color: var(--fill-color);\n",
              "    }\n",
              "    30% {\n",
              "      border-color: transparent;\n",
              "      border-left-color: var(--fill-color);\n",
              "      border-top-color: var(--fill-color);\n",
              "      border-right-color: var(--fill-color);\n",
              "    }\n",
              "    40% {\n",
              "      border-color: transparent;\n",
              "      border-right-color: var(--fill-color);\n",
              "      border-top-color: var(--fill-color);\n",
              "    }\n",
              "    60% {\n",
              "      border-color: transparent;\n",
              "      border-right-color: var(--fill-color);\n",
              "    }\n",
              "    80% {\n",
              "      border-color: transparent;\n",
              "      border-right-color: var(--fill-color);\n",
              "      border-bottom-color: var(--fill-color);\n",
              "    }\n",
              "    90% {\n",
              "      border-color: transparent;\n",
              "      border-bottom-color: var(--fill-color);\n",
              "    }\n",
              "  }\n",
              "</style>\n",
              "\n",
              "      <script>\n",
              "        async function quickchart(key) {\n",
              "          const quickchartButtonEl =\n",
              "            document.querySelector('#' + key + ' button');\n",
              "          quickchartButtonEl.disabled = true;  // To prevent multiple clicks.\n",
              "          quickchartButtonEl.classList.add('colab-df-spinner');\n",
              "          try {\n",
              "            const charts = await google.colab.kernel.invokeFunction(\n",
              "                'suggestCharts', [key], {});\n",
              "          } catch (error) {\n",
              "            console.error('Error during call to suggestCharts:', error);\n",
              "          }\n",
              "          quickchartButtonEl.classList.remove('colab-df-spinner');\n",
              "          quickchartButtonEl.classList.add('colab-df-quickchart-complete');\n",
              "        }\n",
              "        (() => {\n",
              "          let quickchartButtonEl =\n",
              "            document.querySelector('#df-7bd5ff55-9809-4116-9140-8b258943b934 button');\n",
              "          quickchartButtonEl.style.display =\n",
              "            google.colab.kernel.accessAllowed ? 'block' : 'none';\n",
              "        })();\n",
              "      </script>\n",
              "    </div>\n",
              "\n",
              "    </div>\n",
              "  </div>\n"
            ],
            "application/vnd.google.colaboratory.intrinsic+json": {
              "type": "dataframe",
              "variable_name": "df",
              "summary": "{\n  \"name\": \"df\",\n  \"rows\": 891,\n  \"fields\": [\n    {\n      \"column\": \"PassengerId\",\n      \"properties\": {\n        \"dtype\": \"number\",\n        \"std\": 257,\n        \"min\": 1,\n        \"max\": 891,\n        \"num_unique_values\": 891,\n        \"samples\": [\n          710,\n          440,\n          841\n        ],\n        \"semantic_type\": \"\",\n        \"description\": \"\"\n      }\n    },\n    {\n      \"column\": \"Survived\",\n      \"properties\": {\n        \"dtype\": \"number\",\n        \"std\": 0,\n        \"min\": 0,\n        \"max\": 1,\n        \"num_unique_values\": 2,\n        \"samples\": [\n          1,\n          0\n        ],\n        \"semantic_type\": \"\",\n        \"description\": \"\"\n      }\n    },\n    {\n      \"column\": \"Pclass\",\n      \"properties\": {\n        \"dtype\": \"number\",\n        \"std\": 0,\n        \"min\": 1,\n        \"max\": 3,\n        \"num_unique_values\": 3,\n        \"samples\": [\n          3,\n          1\n        ],\n        \"semantic_type\": \"\",\n        \"description\": \"\"\n      }\n    },\n    {\n      \"column\": \"Name\",\n      \"properties\": {\n        \"dtype\": \"string\",\n        \"num_unique_values\": 891,\n        \"samples\": [\n          \"Moubarek, Master. Halim Gonios (\\\"William George\\\")\",\n          \"Kvillner, Mr. Johan Henrik Johannesson\"\n        ],\n        \"semantic_type\": \"\",\n        \"description\": \"\"\n      }\n    },\n    {\n      \"column\": \"Sex\",\n      \"properties\": {\n        \"dtype\": \"category\",\n        \"num_unique_values\": 2,\n        \"samples\": [\n          \"female\",\n          \"male\"\n        ],\n        \"semantic_type\": \"\",\n        \"description\": \"\"\n      }\n    },\n    {\n      \"column\": \"Age\",\n      \"properties\": {\n        \"dtype\": \"number\",\n        \"std\": 14.526497332334044,\n        \"min\": 0.42,\n        \"max\": 80.0,\n        \"num_unique_values\": 88,\n        \"samples\": [\n          0.75,\n          22.0\n        ],\n        \"semantic_type\": \"\",\n        \"description\": \"\"\n      }\n    },\n    {\n      \"column\": \"SibSp\",\n      \"properties\": {\n        \"dtype\": \"number\",\n        \"std\": 1,\n        \"min\": 0,\n        \"max\": 8,\n        \"num_unique_values\": 7,\n        \"samples\": [\n          1,\n          0\n        ],\n        \"semantic_type\": \"\",\n        \"description\": \"\"\n      }\n    },\n    {\n      \"column\": \"Parch\",\n      \"properties\": {\n        \"dtype\": \"number\",\n        \"std\": 0,\n        \"min\": 0,\n        \"max\": 6,\n        \"num_unique_values\": 7,\n        \"samples\": [\n          0,\n          1\n        ],\n        \"semantic_type\": \"\",\n        \"description\": \"\"\n      }\n    },\n    {\n      \"column\": \"Ticket\",\n      \"properties\": {\n        \"dtype\": \"string\",\n        \"num_unique_values\": 681,\n        \"samples\": [\n          \"11774\",\n          \"248740\"\n        ],\n        \"semantic_type\": \"\",\n        \"description\": \"\"\n      }\n    },\n    {\n      \"column\": \"Fare\",\n      \"properties\": {\n        \"dtype\": \"number\",\n        \"std\": 49.693428597180905,\n        \"min\": 0.0,\n        \"max\": 512.3292,\n        \"num_unique_values\": 248,\n        \"samples\": [\n          11.2417,\n          51.8625\n        ],\n        \"semantic_type\": \"\",\n        \"description\": \"\"\n      }\n    },\n    {\n      \"column\": \"Cabin\",\n      \"properties\": {\n        \"dtype\": \"category\",\n        \"num_unique_values\": 147,\n        \"samples\": [\n          \"D45\",\n          \"B49\"\n        ],\n        \"semantic_type\": \"\",\n        \"description\": \"\"\n      }\n    },\n    {\n      \"column\": \"Embarked\",\n      \"properties\": {\n        \"dtype\": \"category\",\n        \"num_unique_values\": 3,\n        \"samples\": [\n          \"S\",\n          \"C\"\n        ],\n        \"semantic_type\": \"\",\n        \"description\": \"\"\n      }\n    }\n  ]\n}"
            }
          },
          "metadata": {},
          "execution_count": 3
        }
      ]
    },
    {
      "cell_type": "markdown",
      "source": [
        "**Introduce NULL & Garbage (if needed)**"
      ],
      "metadata": {
        "id": "yYd_WFczF849"
      }
    },
    {
      "cell_type": "code",
      "source": [
        "\n",
        "df.loc[0, 'Age'] = \"unknown\"\n",
        "df.loc[1, 'Embarked'] = None\n",
        "df.loc[2, 'Name'] = \"###ERROR###\"\n"
      ],
      "metadata": {
        "colab": {
          "base_uri": "https://localhost:8080/"
        },
        "id": "GwUPfrPPGKR8",
        "outputId": "8ab2efcb-c21f-4e01-ea96-0155db9f60d7"
      },
      "execution_count": 4,
      "outputs": [
        {
          "output_type": "stream",
          "name": "stderr",
          "text": [
            "/tmp/ipython-input-4-2018272565.py:1: FutureWarning: Setting an item of incompatible dtype is deprecated and will raise an error in a future version of pandas. Value 'unknown' has dtype incompatible with float64, please explicitly cast to a compatible dtype first.\n",
            "  df.loc[0, 'Age'] = \"unknown\"\n"
          ]
        }
      ]
    },
    {
      "cell_type": "markdown",
      "source": [
        "**Data Cleaning & Processing**\n"
      ],
      "metadata": {
        "id": "wYRpU86mGRnO"
      }
    },
    {
      "cell_type": "code",
      "source": [
        "# Check for NULLs\n",
        "print(\"Null values:\\n\", df.isnull().sum())\n",
        "\n",
        "# Replace 'unknown' and garbage values\n",
        "df['Age'] = pd.to_numeric(df['Age'], errors='coerce')  # 'unknown' becomes NaN\n",
        "df['Name'] = df['Name'].replace(\"###ERROR###\", np.nan)\n",
        "\n",
        "# Drop rows with too many missing values (optional)\n",
        "df = df.dropna(subset=['Age', 'Embarked', 'Name'])\n",
        "\n",
        "# Fill missing values\n",
        "df['Age'] = df['Age'].fillna(df['Age'].median())\n",
        "df['Embarked'] = df['Embarked'].fillna(df['Embarked'].mode()[0])\n"
      ],
      "metadata": {
        "colab": {
          "base_uri": "https://localhost:8080/"
        },
        "id": "HyLby6ljGdJq",
        "outputId": "fbc98db6-8116-4098-a8e3-8d965abc188a"
      },
      "execution_count": 5,
      "outputs": [
        {
          "output_type": "stream",
          "name": "stdout",
          "text": [
            "Null values:\n",
            " PassengerId      0\n",
            "Survived         0\n",
            "Pclass           0\n",
            "Name             0\n",
            "Sex              0\n",
            "Age            177\n",
            "SibSp            0\n",
            "Parch            0\n",
            "Ticket           0\n",
            "Fare             0\n",
            "Cabin          687\n",
            "Embarked         3\n",
            "dtype: int64\n"
          ]
        },
        {
          "output_type": "stream",
          "name": "stderr",
          "text": [
            "/tmp/ipython-input-5-1010027381.py:12: SettingWithCopyWarning: \n",
            "A value is trying to be set on a copy of a slice from a DataFrame.\n",
            "Try using .loc[row_indexer,col_indexer] = value instead\n",
            "\n",
            "See the caveats in the documentation: https://pandas.pydata.org/pandas-docs/stable/user_guide/indexing.html#returning-a-view-versus-a-copy\n",
            "  df['Age'] = df['Age'].fillna(df['Age'].median())\n",
            "/tmp/ipython-input-5-1010027381.py:13: SettingWithCopyWarning: \n",
            "A value is trying to be set on a copy of a slice from a DataFrame.\n",
            "Try using .loc[row_indexer,col_indexer] = value instead\n",
            "\n",
            "See the caveats in the documentation: https://pandas.pydata.org/pandas-docs/stable/user_guide/indexing.html#returning-a-view-versus-a-copy\n",
            "  df['Embarked'] = df['Embarked'].fillna(df['Embarked'].mode()[0])\n"
          ]
        }
      ]
    },
    {
      "cell_type": "markdown",
      "source": [
        "**Visualizations**"
      ],
      "metadata": {
        "id": "WyfWMjmrGptU"
      }
    },
    {
      "cell_type": "code",
      "source": [
        "# Histogram\n",
        "plt.figure(figsize=(8, 4))\n",
        "sns.histplot(df['Age'], kde=True)\n",
        "plt.title(\"Age Distribution\")\n",
        "plt.show()\n",
        "\n",
        "# Boxplot\n",
        "plt.figure(figsize=(6, 4))\n",
        "sns.boxplot(x='Sex', y='Age', data=df)\n",
        "plt.title(\"Age Boxplot by Gender\")\n",
        "plt.show()\n",
        "\n",
        "# Countplot\n",
        "plt.figure(figsize=(6, 4))\n",
        "sns.countplot(x='Survived', data=df)\n",
        "plt.title(\"Survival Count\")\n",
        "plt.show()\n",
        "\n",
        "# Heatmap for correlation\n",
        "plt.figure(figsize=(10, 6))\n",
        "sns.heatmap(df.corr(numeric_only=True), annot=True, cmap='coolwarm')\n",
        "plt.title(\"Feature Correlation Heatmap\")\n",
        "plt.show()\n"
      ],
      "metadata": {
        "colab": {
          "base_uri": "https://localhost:8080/",
          "height": 1000
        },
        "id": "OtsOwF1oGrSZ",
        "outputId": "fa2fe757-3bfa-4b0a-cbf0-fddcb2c48f5f"
      },
      "execution_count": 6,
      "outputs": [
        {
          "output_type": "display_data",
          "data": {
            "text/plain": [
              "<Figure size 800x400 with 1 Axes>"
            ],
            "image/png": "[encoded data removed]"
          },
          "metadata": {}
        },
        {
          "output_type": "display_data",
          "data": {
            "text/plain": [
              "<Figure size 600x400 with 1 Axes>"
            ],
            "image/png": "[encoded data removed]"
          },
          "metadata": {}
        },
        {
          "output_type": "display_data",
          "data": {
            "text/plain": [
              "<Figure size 600x400 with 1 Axes>"
            ],
            "image/png": "[encoded data removed]"
          },
          "metadata": {}
        },
        {
          "output_type": "display_data",
          "data": {
            "text/plain": [
              "<Figure size 1000x600 with 2 Axes>"
            ],
            "image/png": "[encoded data removed]"
          },
          "metadata": {}
        }
      ]
    },
    {
      "cell_type": "markdown",
      "source": [
        "# **Lab Manual 4**\n",
        "Lab Exercise 2: Create two dataframe and show their correlation using Pearson’s correlation and visualize with appropriate\n",
        "plot."
      ],
      "metadata": {
        "id": "SnOnuDiaGuwL"
      }
    },
    {
      "cell_type": "code",
      "source": [
        "# Create two simple DataFrames\n",
        "df1 = pd.DataFrame({\n",
        "    'Math': [90, 80, 85, 70, 95],\n",
        "    'Physics': [88, 76, 83, 72, 90]\n",
        "})\n",
        "\n",
        "df2 = pd.DataFrame({\n",
        "    'Chemistry': [78, 82, 88, 70, 85],\n",
        "    'Biology': [80, 79, 85, 68, 87]\n",
        "})\n",
        "\n",
        "# Merge into one for correlation\n",
        "merged_df = pd.concat([df1, df2], axis=1)\n",
        "\n",
        "# Pearson Correlation\n",
        "correlation_matrix = merged_df.corr(method='pearson')\n",
        "print(\"Pearson Correlation:\\n\", correlation_matrix)\n",
        "\n",
        "# Visualize with heatmap\n",
        "plt.figure(figsize=(8, 6))\n",
        "sns.heatmap(correlation_matrix, annot=True, cmap='viridis')\n",
        "plt.title(\"Pearson Correlation Heatmap\")\n",
        "plt.show()\n"
      ],
      "metadata": {
        "colab": {
          "base_uri": "https://localhost:8080/",
          "height": 649
        },
        "id": "GKHYvcDJG8qT",
        "outputId": "0d8b6062-e7ec-474c-f149-3aa1359a7ea9"
      },
      "execution_count": 7,
      "outputs": [
        {
          "output_type": "stream",
          "name": "stdout",
          "text": [
            "Pearson Correlation:\n",
            "                Math   Physics  Chemistry   Biology\n",
            "Math       1.000000  0.976351   0.680942  0.892708\n",
            "Physics    0.976351  1.000000   0.579545  0.820658\n",
            "Chemistry  0.680942  0.579545   1.000000  0.936789\n",
            "Biology    0.892708  0.820658   0.936789  1.000000\n"
          ]
        },
        {
          "output_type": "display_data",
          "data": {
            "text/plain": [
              "<Figure size 800x600 with 2 Axes>"
            ],
            "image/png": "[encoded data removed]"
          },
          "metadata": {}
        }
      ]
    }
  ]
}