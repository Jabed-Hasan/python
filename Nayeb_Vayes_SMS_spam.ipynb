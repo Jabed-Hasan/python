{
  "nbformat": 4,
  "nbformat_minor": 0,
  "metadata": {
    "colab": {
      "provenance": [],
      "authorship_tag": "ABX9TyPCKdVE0i7+fhAsE7JfRdVJ",
      "include_colab_link": true
    },
    "kernelspec": {
      "name": "python3",
      "display_name": "Python 3"
    },
    "language_info": {
      "name": "python"
    }
  },
  "cells": [
    {
      "cell_type": "markdown",
      "metadata": {
        "id": "view-in-github",
        "colab_type": "text"
      },
      "source": [
        "<a href=\"https://colab.research.google.com/github/Jabed-Hasan/python/blob/main/Nayeb_Vayes_SMS_spam.ipynb\" target=\"_parent\"><img src=\"https://colab.research.google.com/assets/colab-badge.svg\" alt=\"Open In Colab\"/></a>"
      ]
    },
    {
      "cell_type": "code",
      "execution_count": 2,
      "metadata": {
        "colab": {
          "base_uri": "https://localhost:8080/",
          "height": 1000
        },
        "id": "sbgU_IFS5ilP",
        "outputId": "92c1186b-6293-4837-ecbf-57fe5c725518"
      },
      "outputs": [
        {
          "output_type": "stream",
          "name": "stdout",
          "text": [
            "Sample data:\n",
            "   label                                            message\n",
            "0   ham  Go until jurong point, crazy.. Available only ...\n",
            "1   ham                      Ok lar... Joking wif u oni...\n",
            "2  spam  Free entry in 2 a wkly comp to win FA Cup fina...\n",
            "3   ham  U dun say so early hor... U c already then say...\n",
            "4   ham  Nah I don't think he goes to usf, he lives aro...\n",
            "\n",
            "After converting labels:\n",
            "    label                                            message\n",
            "0      0  Go until jurong point, crazy.. Available only ...\n",
            "1      0                      Ok lar... Joking wif u oni...\n",
            "2      1  Free entry in 2 a wkly comp to win FA Cup fina...\n",
            "3      0  U dun say so early hor... U c already then say...\n",
            "4      0  Nah I don't think he goes to usf, he lives aro...\n",
            "\n",
            "Dataset Sizes:\n",
            "Total: 5572\n",
            "Train: 4179\n",
            "Test: 1393\n",
            "\n",
            "Accuracy: 98.85%\n",
            "\n",
            "Classification Report:\n",
            "              precision    recall  f1-score   support\n",
            "\n",
            "         Ham       0.99      1.00      0.99      1208\n",
            "        Spam       0.97      0.94      0.96       185\n",
            "\n",
            "    accuracy                           0.99      1393\n",
            "   macro avg       0.98      0.97      0.97      1393\n",
            "weighted avg       0.99      0.99      0.99      1393\n",
            "\n",
            "Confusion Matrix:\n",
            " [[1203    5]\n",
            " [  11  174]]\n"
          ]
        },
        {
          "output_type": "display_data",
          "data": {
            "text/plain": [
              "<Figure size 600x400 with 2 Axes>"
            ],
            "image/png": "[encoded data removed]"
          },
          "metadata": {}
        }
      ],
      "source": [
        "# ---------------------------------------\n",
        "# Step 1: Import Required Libraries\n",
        "# ---------------------------------------\n",
        "import pandas as pd\n",
        "import numpy as np\n",
        "from sklearn.model_selection import train_test_split\n",
        "from sklearn.feature_extraction.text import CountVectorizer\n",
        "from sklearn.naive_bayes import MultinomialNB\n",
        "from sklearn.metrics import confusion_matrix, classification_report\n",
        "\n",
        "# ---------------------------------------\n",
        "# Step 2: Load the Dataset\n",
        "# ---------------------------------------\n",
        "# Dataset: https://archive.ics.uci.edu/ml/datasets/SMS+Spam+Collection\n",
        "# The file 'SMSSpamCollection' should be downloaded and placed in your working directory.\n",
        "\n",
        "# Load the dataset into a DataFrame\n",
        "df = pd.read_table('/content/sample_data/SMSSpamCollection', sep='\\t', header=None, names=['label', 'message'])\n",
        "\n",
        "# Preview the data\n",
        "print(\"Sample data:\\n\", df.head())\n",
        "\n",
        "# ---------------------------------------\n",
        "# Step 3: Data Preprocessing\n",
        "# ---------------------------------------\n",
        "# Convert labels: 'ham' → 0, 'spam' → 1\n",
        "df['label'] = df['label'].map({'ham': 0, 'spam': 1})\n",
        "\n",
        "# Check updated data\n",
        "print(\"\\nAfter converting labels:\\n\", df.head())\n",
        "\n",
        "# ---------------------------------------\n",
        "# Step 4: Split into Training and Test Sets\n",
        "# ---------------------------------------\n",
        "# Split dataset into 70% training and 30% testing\n",
        "X_train, X_test, y_train, y_test = train_test_split(df['message'], df['label'], random_state=1)\n",
        "\n",
        "print(\"\\nDataset Sizes:\")\n",
        "print(\"Total:\", df.shape[0])\n",
        "print(\"Train:\", X_train.shape[0])\n",
        "print(\"Test:\", X_test.shape[0])\n",
        "\n",
        "# ---------------------------------------\n",
        "# Step 5: Feature Extraction using Bag of Words\n",
        "# ---------------------------------------\n",
        "# Convert text messages into Bag of Words features\n",
        "vectorizer = CountVectorizer()\n",
        "X_train_counts = vectorizer.fit_transform(X_train)  # Learn vocab from training\n",
        "X_test_counts = vectorizer.transform(X_test)        # Transform test set with same vocab\n",
        "\n",
        "# ---------------------------------------\n",
        "# Step 6: Train Naïve Bayes Classifier\n",
        "# ---------------------------------------\n",
        "# Create and train the classifier\n",
        "model = MultinomialNB()\n",
        "model.fit(X_train_counts, y_train)\n",
        "\n",
        "# ---------------------------------------\n",
        "# Step 7: Evaluate the Model\n",
        "# ---------------------------------------\n",
        "# Make predictions on test set\n",
        "y_pred = model.predict(X_test_counts)\n",
        "\n",
        "# Calculate accuracy\n",
        "accuracy = np.mean(y_pred == y_test)\n",
        "print(f\"\\nAccuracy: {accuracy:.2%}\")\n",
        "\n",
        "# Classification Report\n",
        "print(\"\\nClassification Report:\")\n",
        "print(classification_report(y_test, y_pred, target_names=['Ham', 'Spam']))\n",
        "\n",
        "# Confusion Matrix\n",
        "cm = confusion_matrix(y_test, y_pred)\n",
        "print(\"Confusion Matrix:\\n\", cm)\n",
        "\n",
        "# Optional: visualize Confusion Matrix with seaborn\n",
        "import seaborn as sns\n",
        "import matplotlib.pyplot as plt\n",
        "\n",
        "plt.figure(figsize=(6,4))\n",
        "sns.heatmap(cm, annot=True, fmt='d', cmap='Blues', xticklabels=['Ham', 'Spam'], yticklabels=['Ham', 'Spam'])\n",
        "plt.xlabel('Predicted')\n",
        "plt.ylabel('Actual')\n",
        "plt.title('Confusion Matrix')\n",
        "plt.show()\n"
      ]
    }
  ]
}